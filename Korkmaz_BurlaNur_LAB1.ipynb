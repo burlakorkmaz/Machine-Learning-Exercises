{
 "cells": [
  {
   "cell_type": "markdown",
   "metadata": {},
   "source": [
    " # Machine Learning LAB 1 (course 2020/21, P. Zanuttigh, M. Toldo) \n",
    "\n",
    "The notebook contains some simple tasks to be performed about classification and regression. Complete all the required code sections and answer to all the questions."
   ]
  },
  {
   "cell_type": "markdown",
   "metadata": {},
   "source": [
    "## 1) Classification of NBA players role\n",
    "\n",
    "## IMPORTANT: make sure to rerun all the code from the beginning to obtain the results for the final version of your notebook, since this is the way we will do it before evaluating your notebook!"
   ]
  },
  {
   "cell_type": "markdown",
   "metadata": {},
   "source": [
    "### Place your name and ID number. Also recall to save the file as Surname_Name_LAB1.ipynb\n",
    "\n",
    "Student name: Burla Nur Korkmaz\n",
    "\n",
    "ID Number: 2008484"
   ]
  },
  {
   "cell_type": "markdown",
   "metadata": {},
   "source": [
    "### Dataset description\n",
    "\n",
    "We will be working with a dataset of NBA basketball players data (you can get from https://www.kaggle.com/jacobbaruch/nba-player-of-the-week the full dataset).\n",
    "\n",
    "The provided data is a subset of the Kaggle dataset containing the players that have the role of Center and of Point Guard. For each player the dataset contains 3 features, the height, the weight and the age.\n",
    "\n",
    "From Wikipedia (if you are not a basketball fan!!):\n",
    "\n",
    "The Center (C), also known as the five, or the big man, is one of the five positions in a regular basketball game. The center is normally the tallest player on the team, and often has a great deal of strength and body mass as well. In the NBA, the center is usually 6' 10\" (2.08 m) or taller and usually weighs 240 lbs (109 kg) or more. \n",
    "\n",
    "Point Guards (PG, a.k.a. as \"play maker\") are expected to run the team's offense by controlling the ball and making sure that it gets to the right players at the right time. In the NBA, point guards are usually about 6' 3\" (1.93 m) or shorter, and average about 6' 2\" (1.88 m). Having above-average size (height, muscle) is considered advantageous, although size is secondary to situational awareness, speed, quickness, and ball handling skills. Shorter players tend to be better dribblers since they are closer to the floor, and thus have better control of the ball while dribbling. \n",
    "\n",
    "\n",
    "As it is clear from the description, the height and weight of the player are good hints to predict their role and in this lab we will exploit this features to estimate the role.\n",
    "\n",
    "\n",
    "### Three features are considered for this dataset:\n",
    "\n",
    "\n",
    "1) Height in cm\n",
    "\n",
    "2) Weight in kg\n",
    "\n",
    "3) Age in years"
   ]
  },
  {
   "cell_type": "markdown",
   "metadata": {},
   "source": [
    "We first import all the packages that are needed."
   ]
  },
  {
   "cell_type": "code",
   "execution_count": 1,
   "metadata": {},
   "outputs": [],
   "source": [
    "%matplotlib inline\n",
    "import matplotlib.pyplot as plt\n",
    "import csv\n",
    "\n",
    "import numpy as np\n",
    "import scipy as sp\n",
    "import sklearn as sl\n",
    "from scipy import stats\n",
    "from sklearn import datasets\n",
    "from sklearn import linear_model"
   ]
  },
  {
   "cell_type": "markdown",
   "metadata": {},
   "source": [
    "# Perceptron\n",
    "Firstly we will implement the perceptron algorithm and use it to learn a halfspace."
   ]
  },
  {
   "cell_type": "markdown",
   "metadata": {},
   "source": [
    "**TO DO** Set the random seed (you can use your ID (matricola) or any other number!)."
   ]
  },
  {
   "cell_type": "code",
   "execution_count": 2,
   "metadata": {},
   "outputs": [],
   "source": [
    "IDnumber = 12345678 #try also to change the seed to see the impact of random initialization on the results\n",
    "np.random.seed(IDnumber)"
   ]
  },
  {
   "cell_type": "markdown",
   "metadata": {},
   "source": [
    "Load the dataset and then split in training set and test set (the training set is typically larger, you can use a 70% tranining 30% test split) after applying a random permutation to the datset."
   ]
  },
  {
   "cell_type": "markdown",
   "metadata": {},
   "source": [
    "A) Load dataset and perform permutation"
   ]
  },
  {
   "cell_type": "code",
   "execution_count": 3,
   "metadata": {},
   "outputs": [
    {
     "name": "stdout",
     "output_type": "stream",
     "text": [
      "['Position', 'Height cm', 'kg', 'Age']\n",
      "260\n"
     ]
    }
   ],
   "source": [
    "#load the dataset\n",
    "filename = 'data/NBA.csv'\n",
    "NBA = csv.reader(open(filename, newline=''), delimiter=',')\n",
    "\n",
    "header = next(NBA) #skip first line\n",
    "print(header)\n",
    "\n",
    "dataset = list(NBA)\n",
    "for i in range(len(dataset)):\n",
    "    dataset[i] = [int(x) for x in dataset[i]]\n",
    "    \n",
    "dataset = np.asarray(dataset)\n",
    "\n",
    "X = dataset[:,1:4] #columns 1,2,3 contain the features\n",
    "Y = dataset[:,0]  # column 0: labels\n",
    "\n",
    "Y = Y*2-1  # set labels to -1, 1 as required by perceptron implementation\n",
    "\n",
    "m = dataset.shape[0]\n",
    "print(m)\n",
    "permutation = np.random.permutation(m) # random permurtation\n",
    "\n",
    "X = X[permutation]\n",
    "Y = Y[permutation]"
   ]
  },
  {
   "cell_type": "markdown",
   "metadata": {},
   "source": [
    "We are going to classify class \"1\" (Center) vs class \"-1\" (Point Guard)"
   ]
  },
  {
   "cell_type": "markdown",
   "metadata": {},
   "source": [
    "B) **TO DO** Divide the data into training set and test set (70% of the data in the first set, 30% in the second one)"
   ]
  },
  {
   "cell_type": "code",
   "execution_count": 4,
   "metadata": {},
   "outputs": [
    {
     "name": "stdout",
     "output_type": "stream",
     "text": [
      "[ 1  1 -1 -1  1  1  1  1  1  1 -1  1 -1 -1  1  1 -1 -1 -1 -1  1 -1  1  1\n",
      " -1 -1 -1 -1  1  1  1  1  1  1 -1 -1 -1  1 -1  1  1  1 -1  1  1  1 -1 -1\n",
      "  1  1 -1  1 -1  1 -1  1 -1  1  1 -1 -1  1 -1  1  1  1  1  1 -1 -1 -1  1\n",
      " -1  1  1 -1  1  1 -1  1  1 -1  1  1  1  1 -1  1  1  1  1 -1  1  1 -1 -1\n",
      "  1 -1 -1  1  1 -1 -1  1 -1  1 -1 -1  1 -1  1  1 -1  1  1  1  1  1  1 -1\n",
      "  1  1  1 -1  1 -1 -1  1  1  1  1  1 -1 -1  1 -1  1 -1  1 -1  1 -1 -1  1\n",
      "  1 -1 -1 -1  1  1  1 -1  1  1 -1 -1 -1  1 -1 -1 -1  1  1 -1  1 -1 -1 -1\n",
      " -1 -1 -1 -1 -1 -1 -1  1  1  1  1  1 -1 -1]\n",
      "78\n",
      "Shape of training set: (182, 3)\n",
      "Shape of test set: (78, 3)\n"
     ]
    }
   ],
   "source": [
    "#Divide in training and test: make sure that your training set\n",
    "#contains at least 10 elements from class 1 and at least 10 elements\n",
    "#from class -1! If it does not, modify the code so to apply more random\n",
    "#permutations (or the same permutation multiple times) until this happens.\n",
    "#IMPORTANT: do not change the random seed.\n",
    "\n",
    "#m_training needs to be the number of samples in the training set\n",
    "m_training = 182\n",
    "\n",
    "#m_test needs to be the number of samples in the test set\n",
    "m_test = 78\n",
    "\n",
    "#X_training = instances for training set\n",
    "X_training = X[0:182,0:3]\n",
    "#Y_training = labels for the training set\n",
    "Y_training = Y[0:182]\n",
    "\n",
    "#X_test = instances for test set\n",
    "X_test = X[182:260,0:3]\n",
    "#Y_test = labels for the test set\n",
    "Y_test = Y[182:260]\n",
    "\n",
    "\n",
    "count = 0\n",
    "count2 = 0\n",
    "for i in range(len(Y_training)):\n",
    "    if Y_training[i] == -1 and Y_training[i] == 1:\n",
    "        count = count + 1\n",
    "        count2 = count2 + 1\n",
    "       \n",
    "from sklearn.utils import shuffle        \n",
    "if count < 10 or count2 < 10:\n",
    "    dataset = shuffle(dataset)\n",
    "    X = dataset[:,1:4] #columns 1,2,3 contain the features\n",
    "    Y = dataset[:,0]  # column 0: labels\n",
    "    Y = Y*2-1  # set labels to -1, 1 as required by perceptron implementation\n",
    "    \n",
    "    X_training = X[0:182,0:3]\n",
    "    Y_training = Y[0:182]\n",
    "    \n",
    "    X_test = X[182:260,0:3]\n",
    "    Y_test = Y[182:260]\n",
    "    \n",
    "      \n",
    "print(Y_training) #to make sure that Y_training contains both 1 and -1\n",
    "print(m_test)\n",
    "\n",
    "print(\"Shape of training set: \" + str(X_training.shape))\n",
    "print(\"Shape of test set: \" + str(X_test.shape))"
   ]
  },
  {
   "cell_type": "markdown",
   "metadata": {},
   "source": [
    "We add a 1 in front of each sample so that we can use a vector in homogeneous coordinates to describe all the coefficients of the model. This can be done with the function $hstack$ in $numpy$."
   ]
  },
  {
   "cell_type": "code",
   "execution_count": 5,
   "metadata": {},
   "outputs": [],
   "source": [
    "#add a 1 to each sample (homogeneous coordinates)\n",
    "#X_training = np.hstack((np.ones((m_training,1)),X_training))\n",
    "#X_test = np.hstack((np.ones((m_test,1)),X_test))"
   ]
  },
  {
   "cell_type": "markdown",
   "metadata": {},
   "source": [
    "**TO DO** Now complete the function *perceptron*. Since the perceptron does not terminate if the data is not linearly separable, your implementation should return the desired output (see below) if it reached the termination condition seen in class or if a maximum number of iterations have already been run, where one iteration corresponds to one update of the perceptron weights. In case the termination is reached because the maximum number of iterations have been completed, the implementation should return **the best model** seen up to now.\n",
    "\n",
    "The input parameters to pass are:\n",
    "- $X$: the matrix of input features, one row for each sample\n",
    "- $Y$: the vector of labels for the input features matrix X\n",
    "- $max\\_num\\_iterations$: the maximum number of iterations for running the perceptron\n",
    "\n",
    "The output values are:\n",
    "- $best\\_w$: the vector with the coefficients of the best model\n",
    "- $best\\_error$: the *fraction* of misclassified samples for the best model"
   ]
  },
  {
   "cell_type": "code",
   "execution_count": 6,
   "metadata": {},
   "outputs": [],
   "source": [
    "# A template is provided, but feel free to build a different implementation\n",
    "current_weight = np.zeros(3)\n",
    "current_weight = np.vstack(current_weight)\n",
    "learning_rate = 0.0001\n",
    "treshold = 150\n",
    "delta= 0\n",
    "max_num_iteration = 100\n",
    "min_error = 1\n",
    "  \n",
    "for iteration in range(max_num_iteration):\n",
    "    count = 0\n",
    "    for i in range(len(Y_training)):\n",
    "        sum_value = np.matmul(X_training[i,:], current_weight)\n",
    "            \n",
    "        if sum_value >= treshold:\n",
    "            predicted_y = 1\n",
    "            \n",
    "        else:\n",
    "            predicted_y = -1\n",
    "        \n",
    "        delta = Y_training[i] - predicted_y        \n",
    "        if predicted_y != Y_training[i]:\n",
    "            count = count + 1\n",
    "        for j in range(3):\n",
    "            current_weight[j] = current_weight[j] + (delta*learning_rate*X_training[i][j])\n",
    "                                  \n",
    "    error = count / len(Y_training)\n",
    "    if error < min_error:\n",
    "        best_error = error\n",
    "        best_weight1, best_weight2, best_weight3 = current_weight\n",
    "        "
   ]
  },
  {
   "cell_type": "markdown",
   "metadata": {},
   "source": [
    "Now we use the implementation above of the perceptron to learn a model from the training data using 100 iterations and print the error of the best model we have found."
   ]
  },
  {
   "cell_type": "code",
   "execution_count": 7,
   "metadata": {},
   "outputs": [
    {
     "name": "stdout",
     "output_type": "stream",
     "text": [
      "Training Error of Perceptron (100 iterations):  0.0989010989010989 best weights:  [0.267] [0.8084] [0.3688]\n"
     ]
    }
   ],
   "source": [
    "print(\"Training Error of Perceptron (100 iterations): \", best_error, \"best weights: \" , best_weight1, best_weight2, best_weight3)"
   ]
  },
  {
   "cell_type": "markdown",
   "metadata": {},
   "source": [
    "**TO DO** use the best model $w\\_found$ to predict the labels for the test dataset and print the fraction of misclassified samples in the test set (the test error that is an estimate of the true loss)."
   ]
  },
  {
   "cell_type": "code",
   "execution_count": 8,
   "metadata": {},
   "outputs": [
    {
     "name": "stdout",
     "output_type": "stream",
     "text": [
      "Test Error of perpceptron (100 iterations):  0.10256410256410256\n"
     ]
    }
   ],
   "source": [
    "#now use the w_found to make predictions on test dataset w_found = best_w\n",
    "best_w = [best_weight1,best_weight2,best_weight3]\n",
    "best_w = np.vstack(best_w)\n",
    "num_errors = 0\n",
    "for i in range(len(Y_test)):\n",
    "    sum_value = np.matmul(X_test[i,:], best_w)\n",
    "            \n",
    "    if sum_value >= treshold:\n",
    "        predicted_y = 1\n",
    "            \n",
    "    else:\n",
    "        predicted_y = -1\n",
    "        \n",
    "    if predicted_y != Y_test[i]:\n",
    "        num_errors = num_errors + 1\n",
    "        \n",
    "true_loss_estimate = num_errors / len(Y_test)\n",
    "#NOTE: you can avoid using num_errors if you prefer, as long as true_loss_estimate is correct\n",
    "print(\"Test Error of perpceptron (100 iterations): \", true_loss_estimate)"
   ]
  },
  {
   "cell_type": "markdown",
   "metadata": {},
   "source": [
    "**TO DO** **[Answer the following]** What about the difference betweeen the training error and the test error  in terms of fraction of misclassified samples)? Explain what you observe. [In my model, the test error is higher than the training error but the difference between the test error and the training error is not huge. \n",
    "So It can be said that, there is no overfitting or underfitting and it means that the training dataset and the test dataset are balanced and 100 iterations can be sufficient for this data set.\n",
    "But by changing the hyperparameters such as iteration, learning rate etc, there can be a possibility to get a better result.]\n",
    "\n",
    "**ANSWER QUESTION 1**"
   ]
  },
  {
   "cell_type": "markdown",
   "metadata": {},
   "source": [
    "**TO DO** Copy the code from the last 2 cells above in the cell below and repeat the training with 3000 iterations. Then print the error in the training set and the estimate of the true loss obtained from the test set."
   ]
  },
  {
   "cell_type": "code",
   "execution_count": 9,
   "metadata": {
    "scrolled": true
   },
   "outputs": [
    {
     "name": "stdout",
     "output_type": "stream",
     "text": [
      "Training Error of perpceptron (3000 iterations): 0.08791208791208792\n",
      "Test Error of perpceptron (3000 iterations): 0.10256410256410256\n"
     ]
    }
   ],
   "source": [
    "#now run the perceptron for 3000 iterations here!\n",
    "\n",
    "current_weight = np.zeros(3)\n",
    "current_weight = np.vstack(current_weight)\n",
    "learning_rate = 0.0001\n",
    "treshold = 150\n",
    "delta= 0\n",
    "max_num_iteration = 3000\n",
    "min_error = 1\n",
    "  \n",
    "for iteration in range(max_num_iteration):\n",
    "    count = 0\n",
    "    for i in range(len(Y_training)):\n",
    "        sum_value = np.matmul(X_training[i,:], current_weight)\n",
    "            \n",
    "        if sum_value >= treshold:\n",
    "            predicted_y = 1\n",
    "            \n",
    "        else:\n",
    "            predicted_y = -1\n",
    "        \n",
    "        delta = Y_training[i] - predicted_y        \n",
    "        if predicted_y != Y_training[i]:\n",
    "            count = count + 1\n",
    "        for j in range(3):\n",
    "            current_weight[j] = current_weight[j] + (delta*learning_rate*X_training[i][j])\n",
    "            \n",
    "    error = count / len(Y_training)\n",
    "    if error < min_error:\n",
    "        best_error = error\n",
    "        best_weight1, best_weight2, best_weight3 = current_weight\n",
    "\n",
    "print(\"Training Error of perpceptron (3000 iterations): \" + str(best_error))\n",
    "\n",
    "best_w = [best_weight1,best_weight2,best_weight3]\n",
    "best_w = np.vstack(best_w)\n",
    "num_errors = 0\n",
    "for i in range(len(Y_test)):\n",
    "    sum_value = np.matmul(X_test[i,:], best_w)\n",
    "            \n",
    "    if sum_value >= treshold:\n",
    "        predicted_y = 1\n",
    "            \n",
    "    else:\n",
    "        predicted_y = -1\n",
    "        \n",
    "    if predicted_y != Y_test[i]:\n",
    "        num_errors = num_errors + 1\n",
    "        \n",
    "true_loss_estimate = num_errors / len(Y_test)\n",
    "\n",
    "print(\"Test Error of perpceptron (3000 iterations): \" + str(true_loss_estimate))"
   ]
  },
  {
   "cell_type": "markdown",
   "metadata": {},
   "source": [
    "**TO DO** [Answer the following] What about the difference betweeen the training error and the test error  in terms of fraction of misclassified samples) when running for a larger number of iterations ? Explain what you observe and compare with the previous case. [After running for a large number of iteration(3000), the training error reduced slightly but the test error did not change. \n",
    "Still there is no huge difference between the test error and the training error. From my first impression, \n",
    "I thought maybe even more iterations could be overfitting,\n",
    "as I saw the training error decreased after 3000 iterations.\n",
    "Then, to be sure, I trained with 10000 iterations and this time I saw that the training error increased slightly compared to the result in 100 iterations and 3000 iterations, and the test error decreased slightly compared to the last same 2 results.\n",
    "As a result, I got different values ​​by decreasing and increasing the iteration, but the difference between training error and test error was never too big and the error values ​​were close to each other.\n",
    "In my opinion, this is due to the fact that the data set is not very complex.]\n",
    "\n",
    "**ANSWER QUESTION 2**"
   ]
  },
  {
   "cell_type": "markdown",
   "metadata": {},
   "source": [
    "# Logistic Regression\n",
    "Now we use logistic regression, exploiting the implementation in Scikit-learn, to predict labels. We will also plot the decision region of logistic regression.\n",
    "\n",
    "We first load the dataset again."
   ]
  },
  {
   "cell_type": "code",
   "execution_count": 10,
   "metadata": {},
   "outputs": [
    {
     "name": "stdout",
     "output_type": "stream",
     "text": [
      "['Position', 'Height cm', 'kg', 'Age']\n"
     ]
    }
   ],
   "source": [
    "filename = 'data/NBA.csv'\n",
    "NBA = csv.reader(open(filename, newline=''), delimiter=',')\n",
    "\n",
    "header = next(NBA)\n",
    "print(header)\n",
    "\n",
    "dataset = list(NBA)\n",
    "for i in range(len(dataset)):\n",
    "    dataset[i] = [int(x) for x in dataset[i]]\n",
    "    \n",
    "dataset = np.asarray(dataset)\n",
    "\n",
    "X = dataset[:,1:]\n",
    "Y = dataset[:,0]\n",
    "\n",
    "Y = Y*2-1  # set labels to -1, 1 as required by perceptron implementation\n",
    "\n",
    "m = dataset.shape[0]\n",
    "permutation = np.random.permutation(m)\n",
    "\n",
    "X = X[permutation]\n",
    "Y = Y[permutation]"
   ]
  },
  {
   "cell_type": "markdown",
   "metadata": {},
   "source": [
    "**TO DO** As for the previous part, divide the data into training and test (70%-30%) and add a 1 as first component to each sample."
   ]
  },
  {
   "cell_type": "code",
   "execution_count": 11,
   "metadata": {},
   "outputs": [
    {
     "name": "stdout",
     "output_type": "stream",
     "text": [
      "[ 1 -1 -1 -1  1 -1  1 -1  1 -1  1 -1  1  1  1 -1  1  1 -1  1  1 -1 -1  1\n",
      " -1 -1 -1 -1  1 -1  1  1  1 -1  1 -1 -1 -1  1 -1 -1  1  1  1  1  1  1  1\n",
      "  1  1 -1  1  1  1 -1  1 -1  1  1 -1 -1  1  1  1  1 -1  1 -1  1  1  1  1\n",
      "  1 -1  1  1  1 -1  1  1 -1  1  1  1  1 -1  1  1  1 -1 -1  1 -1 -1 -1 -1\n",
      "  1 -1 -1  1  1  1  1  1  1 -1  1 -1  1 -1 -1  1  1 -1 -1  1 -1 -1 -1  1\n",
      "  1 -1 -1  1  1 -1  1 -1 -1 -1  1 -1 -1 -1  1  1  1  1 -1 -1  1 -1  1  1\n",
      "  1  1 -1 -1  1  1 -1 -1  1  1 -1 -1  1  1 -1 -1 -1  1  1  1  1  1 -1 -1\n",
      "  1 -1 -1  1 -1 -1  1  1  1  1  1  1  1 -1]\n",
      "78\n",
      "Shape of training set: (182, 3)\n",
      "Shape of test set: (78, 3)\n"
     ]
    }
   ],
   "source": [
    "#Divide in training and test: make sure that your training set\n",
    "#contains at least 10 elements from class 1 and at least 10 elements\n",
    "#from class -1! If it does not, modify the code so to apply more random\n",
    "#permutations (or the same permutation multiple times) until this happens.\n",
    "#IMPORTANT: do not change the random seed.\n",
    "\n",
    "#m_training needs to be the number of samples in the training set\n",
    "m_training = 182\n",
    "\n",
    "#m_test needs to be the number of samples in the test set\n",
    "m_test = 78\n",
    "\n",
    "#X_training = instances for training set\n",
    "X_training = X[0:182,0:3]\n",
    "#Y_training = labels for the training set\n",
    "Y_training = Y[0:182]\n",
    "\n",
    "#X_test = instances for test set\n",
    "X_test = X[182:260,0:3]\n",
    "#Y_test = labels for the test set\n",
    "Y_test = Y[182:260]\n",
    "\n",
    "\n",
    "count = 0\n",
    "count2 = 0\n",
    "for i in range(len(Y_training)):\n",
    "    if Y_training[i] == -1 and Y_training[i] == 1:\n",
    "        count = count + 1\n",
    "        count2 = count2 + 1\n",
    "       \n",
    "from sklearn.utils import shuffle        \n",
    "if count < 10 or count2 < 10:\n",
    "    dataset = shuffle(dataset)\n",
    "    X = dataset[:,1:4] #columns 1,2,3 contain the features\n",
    "    Y = dataset[:,0]  # column 0: labels\n",
    "    Y = Y*2-1  # set labels to -1, 1 as required by perceptron implementation\n",
    "    \n",
    "    X_training = X[0:182,0:3]\n",
    "    Y_training = Y[0:182]\n",
    "    \n",
    "    X_test = X[182:260,0:3]\n",
    "    Y_test = Y[182:260]\n",
    "    \n",
    "      \n",
    "print(Y_training) #to make sure that Y_training contains both 1 and -1\n",
    "print(m_test)\n",
    "\n",
    "print(\"Shape of training set: \" + str(X_training.shape))\n",
    "print(\"Shape of test set: \" + str(X_test.shape))\n"
   ]
  },
  {
   "cell_type": "markdown",
   "metadata": {},
   "source": [
    "To define a logistic regression model in Scikit-learn use the instruction\n",
    "\n",
    "$linear\\_model.LogisticRegression(C=1e5)$\n",
    "\n",
    "($C$ is a parameter related to *regularization*, a technique that\n",
    "we will see later in the course. Setting it to a high value is almost\n",
    "as ignoring regularization, so the instruction above corresponds to the\n",
    "logistic regression you have seen in class.)\n",
    "\n",
    "To learn the model you need to use the $fit(...)$ instruction and to predict you need to use the $predict(...)$ function. See the Scikit-learn documentation for how to use it.\n",
    "\n",
    "**TO DO** Define the logistic regression model, then learn the model using the training set and predict on the test set. Then print the fraction of samples misclassified in the training set and in the test set."
   ]
  },
  {
   "cell_type": "code",
   "execution_count": 12,
   "metadata": {},
   "outputs": [
    {
     "name": "stdout",
     "output_type": "stream",
     "text": [
      "Error rate on training set: 0.06043956043956045\n",
      "Error rate on test set: 0.0641025641025641\n"
     ]
    }
   ],
   "source": [
    "#part on logistic regression for 2 classes\n",
    "logreg = linear_model.LogisticRegression(C=1e5) #a large C disables regularization\n",
    "\n",
    "#learn from training set\n",
    "logreg.fit(X_training,Y_training)\n",
    "\n",
    "#predict on training set\n",
    "logreg.predict(X_training)\n",
    "\n",
    "#print the error rate = fraction of misclassified samples\n",
    "error_rate_training = 0\n",
    "\n",
    "train_score = logreg.score(X_training,Y_training)\n",
    "error_rate_training = 1-train_score\n",
    "\n",
    "print(\"Error rate on training set: \"+str(error_rate_training))\n",
    "\n",
    "#predict on test set\n",
    "logreg.predict(X_test)\n",
    "\n",
    "#print the error rate = fraction of misclassified samples\n",
    "error_rate_test = 0\n",
    "\n",
    "test_score = logreg.score(X_test,Y_test)\n",
    "error_rate_test = 1-test_score\n",
    "\n",
    "print(\"Error rate on test set: \"+str(error_rate_test))"
   ]
  },
  {
   "cell_type": "markdown",
   "metadata": {},
   "source": [
    "**TO DO** Now pick two features and restrict the dataset to include only two features, whose indices are specified in the $feature$ vector below. Then split into training and test. Which features are you going to select ?"
   ]
  },
  {
   "cell_type": "code",
   "execution_count": 13,
   "metadata": {},
   "outputs": [],
   "source": [
    "#to make the plot we need to reduce the data to 2D, so we choose two features\n",
    "features_list = ['height', 'weight', 'age']\n",
    "labels_list = ['Center', 'Point guard']\n",
    "\n",
    "# select a pair of features\n",
    "index_feature1 = 0 # we choose height\n",
    "index_feature2 = 1 # and weight (age of course is not very meaningful)\n",
    "features = [index_feature1, index_feature2]\n",
    "\n",
    "feature_name0 = features_list[features[0]]\n",
    "feature_name1 = features_list[features[1]]\n",
    "\n",
    "X_reduced = X[:,features]\n",
    "\n",
    "X_training = X_reduced[0:182,0:3]\n",
    "Y_training = Y[0:182]\n",
    "\n",
    "X_test = X_reduced[182:260,0:3]\n",
    "Y_test = Y[182:260]"
   ]
  },
  {
   "cell_type": "markdown",
   "metadata": {},
   "source": [
    "Now learn a model using the training data and measure the performances."
   ]
  },
  {
   "cell_type": "code",
   "execution_count": 14,
   "metadata": {},
   "outputs": [
    {
     "name": "stdout",
     "output_type": "stream",
     "text": [
      "Error rate on test set: 0.0641025641025641\n"
     ]
    }
   ],
   "source": [
    "# learning from training data\n",
    "logreg.fit(X_training,Y_training)\n",
    "\n",
    "#print the error rate = fraction of misclassified samples\n",
    "error_rate_test = 0\n",
    "\n",
    "score = logreg.score(X_test,Y_test)\n",
    "error_rate_test = 1-score\n",
    "\n",
    "print(\"Error rate on test set: \" + str(error_rate_test))"
   ]
  },
  {
   "cell_type": "markdown",
   "metadata": {},
   "source": [
    "**TO DO** [Answer the following] Which features did you select and why ? Compare the perfromances with the ones of the case with all the 3 features and comment about the results. [To get the best error, our data set should contain meaningful data. According to basketball rules, the factors that determine which mission(center and point guard roles) the player will take part in the game are height and weight.\n",
    "That's why I chose weight and height data.\n",
    "When I compared the height, weight and age data and the results of the training with the results of the training with only height and weight, I saw that the test error did not change. We can see that age data is not meaningful and effective for this training.]\n",
    "\n",
    "**ANSWER QUESTION 3**"
   ]
  },
  {
   "cell_type": "markdown",
   "metadata": {},
   "source": [
    "If everything is ok, the code below uses the model in $logreg$ to plot the decision region for the two features chosen above, with colors denoting the predicted value. It also plots the points (with correct labels) in the training set. It makes a similar plot for the test set."
   ]
  },
  {
   "cell_type": "code",
   "execution_count": 15,
   "metadata": {
    "scrolled": true
   },
   "outputs": [
    {
     "data": {
      "image/png": "[encoded data removed]",
      "text/plain": [
       "<Figure size 288x216 with 1 Axes>"
      ]
     },
     "metadata": {},
     "output_type": "display_data"
    },
    {
     "data": {
      "image/png": "[encoded data removed]",
      "text/plain": [
       "<Figure size 288x216 with 1 Axes>"
      ]
     },
     "metadata": {},
     "output_type": "display_data"
    }
   ],
   "source": [
    "# Plot the decision boundary. For that, we will assign a color to each\n",
    "# point in the mesh [x_min, x_max]x[y_min, y_max].\n",
    "\n",
    "# NOTICE: This visualization code has been developed for a \"standard\" solution of the notebook, \n",
    "# it could be necessary to make some fixes to adapt to your implementation\n",
    "\n",
    "h = .02  # step size in the mesh\n",
    "x_min, x_max = X_reduced[:, 0].min() - .5, X_reduced[:, 0].max() + .5\n",
    "y_min, y_max = X_reduced[:, 1].min() - .5, X_reduced[:, 1].max() + .5\n",
    "xx, yy = np.meshgrid(np.arange(x_min, x_max, h), np.arange(y_min, y_max, h))\n",
    "\n",
    "Z = logreg.predict(np.c_[xx.ravel(), yy.ravel()])\n",
    "\n",
    "# Put the result into a color plot\n",
    "Z = Z.reshape(xx.shape)\n",
    "\n",
    "plt.figure(1, figsize=(4, 3))\n",
    "plt.pcolormesh(xx, yy, Z, cmap=plt.cm.Paired)\n",
    "\n",
    "# Plot also the training points\n",
    "plt.scatter(X_training[:, 0], X_training[:, 1], c=Y_training, edgecolors='k', cmap=plt.cm.Paired)\n",
    "plt.xlabel(feature_name0)\n",
    "plt.ylabel(feature_name1)\n",
    "\n",
    "plt.xlim(xx.min(), xx.max())\n",
    "plt.ylim(yy.min(), yy.max())\n",
    "plt.xticks(())\n",
    "plt.yticks(())\n",
    "plt.title('Training set')\n",
    "\n",
    "plt.show()\n",
    "\n",
    "# Put the result into a color plot\n",
    "Z = Z.reshape(xx.shape)\n",
    "plt.figure(1, figsize=(4, 3))\n",
    "plt.pcolormesh(xx, yy, Z, cmap=plt.cm.Paired)\n",
    "\n",
    "# Plot also the test points \n",
    "plt.scatter(X_test[:, 0], X_test[:, 1], c=Y_test, edgecolors='k', cmap=plt.cm.Paired, marker='s')\n",
    "plt.xlabel(feature_name0)\n",
    "plt.ylabel(feature_name1)\n",
    "\n",
    "plt.xlim(xx.min(), xx.max())\n",
    "plt.ylim(yy.min(), yy.max())\n",
    "plt.xticks(())\n",
    "plt.yticks(())\n",
    "plt.title('Test set')\n",
    "\n",
    "plt.show()"
   ]
  },
  {
   "cell_type": "markdown",
   "metadata": {},
   "source": [
    "# 2) Linear Regression on the Boston House Price dataset\n",
    "\n",
    "Dataset description: <br>\n",
    "The Boston House Price Dataset involves the prediction of a house price in thousands of dollars given details about the house and its neighborhood.\n",
    "\n",
    "The dataset contains a total of 500 observations, which relate 13 input features to an output variable (house price).\n",
    "\n",
    "The variable names are as follows:\n",
    "\n",
    "CRIM: per capita crime rate by town.\n",
    "\n",
    "ZN: proportion of residential land zoned for lots over 25,000 sq.ft.\n",
    "\n",
    "INDUS: proportion of nonretail business acres per town.\n",
    "\n",
    "CHAS: Charles River dummy variable (= 1 if tract bounds river; 0 otherwise).\n",
    "\n",
    "NOX: nitric oxides concentration (parts per 10 million).\n",
    "\n",
    "RM: average number of rooms per dwelling.\n",
    "\n",
    "AGE: proportion of owner-occupied units built prior to 1940.\n",
    "\n",
    "DIS: weighted distances to five Boston employment centers.\n",
    "\n",
    "RAD: index of accessibility to radial highways.\n",
    "\n",
    "TAX: full-value property-tax rate per $10,000.\n",
    "\n",
    "PTRATIO: pupil-teacher ratio by town.\n",
    "\n",
    "B: 1000*(Bk – 0.63)2 where Bk is the proportion of blacks by town.\n",
    "\n",
    "LSTAT: % lower status of the population.\n",
    "\n",
    "MEDV: Median value of owner-occupied homes in $1000s.\n",
    "    "
   ]
  },
  {
   "cell_type": "code",
   "execution_count": 16,
   "metadata": {},
   "outputs": [],
   "source": [
    "#needed if you get the IPython/javascript error on the in-line plots\n",
    "%matplotlib nbagg  \n",
    "\n",
    "import matplotlib.pyplot as plt\n",
    "import numpy as np\n",
    "import scipy as sp\n",
    "from scipy import stats"
   ]
  },
  {
   "cell_type": "code",
   "execution_count": 17,
   "metadata": {},
   "outputs": [
    {
     "name": "stdout",
     "output_type": "stream",
     "text": [
      "DescribeResult(nobs=500, minmax=(array([6.3200e-03, 0.0000e+00, 4.6000e-01, 0.0000e+00, 3.8500e-01,\n",
      "       3.5610e+00, 2.9000e+00, 1.1296e+00, 1.0000e+00, 1.8700e+02,\n",
      "       1.2600e+01, 3.2000e-01, 1.7300e+00, 5.0000e+01]), array([ 88.9762, 100.    ,  27.74  ,   1.    ,   0.871 ,   8.78  ,\n",
      "       100.    ,  12.1265,  24.    , 711.    ,  22.    , 396.9   ,\n",
      "        37.97  , 500.    ])), mean=array([3.65578576e+00, 1.15000000e+01, 1.11317400e+01, 7.00000000e-02,\n",
      "       5.54451400e-01, 6.28297000e+00, 6.84246000e+01, 3.81193180e+00,\n",
      "       9.64200000e+00, 4.09624000e+02, 1.84286000e+01, 3.56208040e+02,\n",
      "       1.26987400e+01, 2.25680000e+02]), variance=array([7.47252195e+01, 5.48905812e+02, 4.76198228e+01, 6.52304609e-02,\n",
      "       1.35838329e-02, 4.97618330e-01, 7.99314163e+02, 4.46304043e+00,\n",
      "       7.59617595e+01, 2.85605197e+04, 4.67663531e+00, 8.41657137e+03,\n",
      "       5.13361942e+01, 8.52982926e+03]), skewness=array([ 5.17851447,  2.19924065,  0.29469001,  3.37060575,  0.72944382,\n",
      "        0.40691344, -0.58266003,  0.99061328,  0.9886802 ,  0.65098333,\n",
      "       -0.79127942, -2.85972639,  0.89051925,  1.09625625]), kurtosis=array([36.3384518 ,  3.88460431, -1.25254394,  9.3609831 , -0.10223624,\n",
      "        1.84311394, -0.99523636,  0.43299159, -0.90519243, -1.16696682,\n",
      "       -0.30903922,  7.00864873,  0.44527324,  1.4266838 ]))\n",
      "Shape of data array: (500, 14)\n",
      "  CRIM;ZN;INDUS;CHAS;NOX;RM;AGE;DIS;RAD;TAX;PTRATIO;B;LSTAT;MEDV\n",
      "0  0.00632;18;2.31;0;0.538;6.575;65.2;4.09;1;296;...            \n",
      "1  0.02731;0;7.07;0;0.469;6.421;78.9;4.9671;2;242...            \n",
      "2  0.02729;0;7.07;0;0.469;7.185;61.1;4.9671;2;242...            \n",
      "3  0.03237;0;2.18;0;0.458;6.998;45.8;6.0622;3;222...            \n",
      "4  0.06905;0;2.18;0;0.458;7.147;54.2;6.0622;3;222...            \n"
     ]
    }
   ],
   "source": [
    "#Import Data: Load the data from a .csv file\n",
    "\n",
    "filename = \"data/house.csv\"\n",
    "Data = np.genfromtxt(filename, delimiter=';',skip_header=1)\n",
    "\n",
    "#A quick overview of data, to inspect the data you can use the method describe()\n",
    "\n",
    "dataDescription = stats.describe(Data)\n",
    "print(dataDescription)\n",
    "print (\"Shape of data array: \" + str(Data.shape))\n",
    "\n",
    "\n",
    "#for more interesting visualization: use Panda!\n",
    "import pandas as pd\n",
    "dataset = pd.read_csv(\"data/house.csv\")\n",
    "print(dataset.head(5))"
   ]
  },
  {
   "cell_type": "markdown",
   "metadata": {},
   "source": [
    "# Split data in training, validation and test sets\n",
    "\n",
    "\n",
    "\n",
    "Given $m$ total data, denote with $m_{tv}$ the part used for training and validation. Keep $m_t$ data as training data, $m_{val}:=m_{tv}-m_t$ as validation data and $m_{test}:=m - m_{val} - m_t = m-m_{tv}$. For instance one can take $m_t=0.6m$ of the data as training, $m_{val}=0.2m$  validation and $m_{test}=0.2m$ as testing. Let us define as define\n",
    "\n",
    "$\\bullet$ $S_{t}$ the training data set\n",
    "\n",
    "$\\bullet$ $S_{val}$ the validation data set\n",
    "\n",
    "$\\bullet$ $S_{test}$ the testing data set\n",
    "\n",
    "\n",
    "The reason for this splitting is as follows:\n",
    "\n",
    "TRAINING DATA: The training data are used to compute the empirical loss\n",
    "$$\n",
    "L_S(h) = \\frac{1}{m_t} \\sum_{z_i \\in S_{t}} \\ell(h,z_i)\n",
    "$$\n",
    "which is used to estimate $h$ in a given model class ${\\cal H}$.\n",
    "i.e. \n",
    "$$\n",
    "\\hat{h} = {\\rm arg\\; min}_{h \\in {\\cal H}} \\, L_S(h)\n",
    "$$\n",
    "\n",
    "VALIDATION DATA: When different model classes are present (e.g. of different complexity such as linear regression which uses a different number $d_j$ of regressors $x_1$,...$x_{d_j}$), one has to choose which one is the \"best\" complexity. In this simple example the validation set is not needed, but it is better to get used with it.\n",
    "Let ${\\cal H}_{d_j}$ be the space of models as a function of the complexity $d_j$ and let \n",
    "$$\n",
    "\\hat h_{d_j} = {\\rm arg\\; min}_{h \\in {\\cal H}_{d_j}} \\, L_S(h)\n",
    "$$\n",
    "\n",
    "One can estimate the generalization error for model $\\hat h_{d_j}$ as follows:\n",
    "$$\n",
    "L_{{\\cal D}}(\\hat h_{d_j}) \\simeq \\frac{1}{m_{val}} \\sum_{ z_i \\in S_{val}} \\ell(\\hat h_{d_j},z_i)\n",
    "$$\n",
    "and then choose the complexity which achieves the best estimate of the generalization error\n",
    "$$\n",
    "\\hat d_j: = {\\rm arg\\; min}_{d_j} \\,\\frac{1}{m_{val}} \\sum_{ z_i \\in S_{val}} \\ell(\\hat h_{d_j},z_i)\n",
    "$$\n",
    "\n",
    "TESTING DATA: Last, the test data set can be used to estimate the performance of the final estimated model\n",
    "$\\hat h_{\\hat d_j}$ using:\n",
    "$$\n",
    "L_{{\\cal D}}(\\hat h_{\\hat d_j}) \\simeq \\frac{1}{m_{test}} \\sum_{ z_i \\in S_{test}} \\ell(\\hat h_{\\hat d_j},z_i)\n",
    "$$\n",
    "\n",
    "\n",
    "**TO DO**: split the data in training, validation and test sets (60%-20%-20%)"
   ]
  },
  {
   "cell_type": "code",
   "execution_count": 18,
   "metadata": {},
   "outputs": [
    {
     "name": "stdout",
     "output_type": "stream",
     "text": [
      "Total number of samples:  500\n",
      "Training input data size:  (300, 13)\n",
      "Training output data size:  (300, 1)\n",
      "Validation input data size:  (100, 13)\n",
      "Validation output data size:  (100, 1)\n",
      "Test input data size:  (100, 13)\n",
      "Test output data size:  (100, 1)\n"
     ]
    }
   ],
   "source": [
    "#get number of total samples\n",
    "num_total_samples = Data.shape[0]\n",
    "\n",
    "print (\"Total number of samples: \", num_total_samples)\n",
    "\n",
    "#size of each chunk of data (1/5 each): 3 of them for training, 1 for validation, 1 for testing\n",
    "#size_chunk =  \n",
    "#print (\"Size of each chunk of data: \", size_chunk)\n",
    "\n",
    "#shuffle the data\n",
    "np.random.shuffle(Data)\n",
    "\n",
    "lenght_training = int(len(Data)/100*60)\n",
    "lenght_test = int(len(Data)/100*20)\n",
    "lenght_validation = int(len(Data)/100*20)\n",
    "#training data \n",
    "\n",
    "X_training = Data[0:lenght_training,0:13]\n",
    "Y_training = Data[0:lenght_training,13:14]\n",
    "print (\"Training input data size: \", X_training.shape)\n",
    "print (\"Training output data size: \", Y_training.shape)\n",
    "\n",
    "#validation data, to be used to choose among different models\n",
    "X_validation = Data[lenght_training : lenght_validation+lenght_training,0:13]\n",
    "Y_validation = Data[lenght_training : lenght_validation+lenght_training,13:14]\n",
    "print (\"Validation input data size: \", X_validation.shape)\n",
    "print (\"Validation output data size: \", Y_validation.shape)\n",
    "\n",
    "#test data, to be used to estimate the true loss of the final model(s)\n",
    "X_test = Data[lenght_validation+lenght_training : lenght_test+lenght_validation+lenght_training,0:13]\n",
    "Y_test = Data[lenght_validation+lenght_training : lenght_test+lenght_validation+lenght_training,13:14]\n",
    "print (\"Test input data size: \", X_test.shape)\n",
    "print (\"Test output data size: \", Y_test.shape)"
   ]
  },
  {
   "cell_type": "markdown",
   "metadata": {},
   "source": [
    "# Data Normalization\n",
    "It is common practice in Statistics and Machine Learning to scale the data (= each variable) so that it is centered (zero mean) and has standard deviation equal to 1. This helps in terms of numerical conditioning of the (inverse) problems of estimating the model (the coefficients of the linear regression in this case), as well as to give the same scale to all the coefficients."
   ]
  },
  {
   "cell_type": "code",
   "execution_count": 19,
   "metadata": {},
   "outputs": [
    {
     "name": "stdout",
     "output_type": "stream",
     "text": [
      "Mean of the training input data: [-1.39518027e-16  6.99440506e-17  3.34214138e-15 -1.30266168e-16\n",
      "  2.12385665e-15  4.89201272e-15 -3.97829917e-16  1.26935499e-16\n",
      "  1.19534012e-16 -2.51650552e-17  1.41290683e-14  9.37583344e-16\n",
      "  1.04471987e-15]\n",
      "Std of the training input data: [1. 1. 1. 1. 1. 1. 1. 1. 1. 1. 1. 1. 1.]\n",
      "Mean of the validation input data: [-0.04425921  0.0881407  -0.01790567  0.05345225 -0.1374383   0.07602886\n",
      " -0.08877511  0.04835275 -0.13937015 -0.09157567  0.08490293  0.03815633\n",
      " -0.05346092]\n",
      "Std of the validation input data: [1.15215156 1.21903214 0.98549062 1.08759236 0.88219136 0.96922339\n",
      " 1.0350816  1.02019662 0.92997491 0.90388349 0.96578312 1.00369123\n",
      " 1.01898933]\n",
      "Mean of the test input data: [-0.05009578  0.10019089 -0.0932795   0.01336306 -0.12481428  0.07425851\n",
      " -0.11810238  0.15026343 -0.021037   -0.0548914   0.11543154  0.11019819\n",
      " -0.15007807]\n",
      "Std of the test input data: [1.23166293 1.08021811 0.97765771 1.02286363 0.96561836 1.09446057\n",
      " 1.12346185 1.04094683 0.96679325 0.97329832 0.94858179 0.82927448\n",
      " 0.99676493]\n"
     ]
    }
   ],
   "source": [
    "#scale the data\n",
    "\n",
    "# standardize the input matrix\n",
    "from sklearn import preprocessing\n",
    "# the transformation is computed on training data and then used on all the 3 sets\n",
    "scaler = preprocessing.StandardScaler().fit(X_training) \n",
    "\n",
    "X_training = scaler.transform(X_training)\n",
    "print (\"Mean of the training input data:\", X_training.mean(axis=0))\n",
    "print (\"Std of the training input data:\",X_training.std(axis=0))\n",
    "\n",
    "X_validation = scaler.transform(X_validation) # use the same transformation on validation data\n",
    "print (\"Mean of the validation input data:\", X_validation.mean(axis=0))\n",
    "print (\"Std of the validation input data:\", X_validation.std(axis=0))\n",
    "\n",
    "X_test = scaler.transform(X_test) # use the same transformation on test data\n",
    "print (\"Mean of the test input data:\", X_test.mean(axis=0))\n",
    "print (\"Std of the test input data:\", X_test.std(axis=0))"
   ]
  },
  {
   "cell_type": "markdown",
   "metadata": {},
   "source": [
    "# Model Training \n",
    "\n",
    "The model is trained (= estimated) minimizing the empirical error\n",
    "$$\n",
    "L_S(h) := \\frac{1}{m_t} \\sum_{z_i \\in S_{t}} \\ell(h,z_i)\n",
    "$$\n",
    "When the loss function is the quadratic loss\n",
    "$$\n",
    "\\ell(h,z) := (y - h(x))^2\n",
    "$$\n",
    "we define  the Residual Sum of Squares (RSS) as\n",
    "$$\n",
    "RSS(h):= \\sum_{z_i \\in S_{t}} \\ell(h,z_i) = \\sum_{z_i \\in S_{t}} (y_i - h(x_i))^2\n",
    "$$ so that the training error becomes\n",
    "$$\n",
    "L_S(h) = \\frac{RSS(h)}{m_t}\n",
    "$$\n",
    "\n",
    "We recal that, for linear models we have $h(x) = <w,x>$ and the Empirical error $L_S(h)$ can be written\n",
    "in terms of the vector of parameters $w$ in the form\n",
    "$$\n",
    "L_S(w) = \\frac{1}{m_t} \\|Y - X w\\|^2\n",
    "$$\n",
    "where $Y$ and $X$ are the matrices whose $i-$th row are, respectively, the output data $y_i$ and the input vectors $x_i^\\top$.\n",
    "\n",
    "\n",
    " **TO DO:** compute the linear regression coefficients using np.linalg.lstsq from scikitlear \n",
    " "
   ]
  },
  {
   "cell_type": "code",
   "execution_count": 20,
   "metadata": {},
   "outputs": [
    {
     "name": "stdout",
     "output_type": "stream",
     "text": [
      "LS coefficients with numpy lstsq: [[223.91      ]\n",
      " [ -7.96825587]\n",
      " [  9.96074867]\n",
      " [ -6.13412414]\n",
      " [ 11.91596188]\n",
      " [-15.80343278]\n",
      " [ 22.35714331]\n",
      " [ -1.05468059]\n",
      " [-34.16662483]\n",
      " [ 20.21684307]\n",
      " [-14.91652015]\n",
      " [-18.33353416]\n",
      " [  8.9242673 ]\n",
      " [-40.5730793 ]]\n",
      "RSS with numpy lstsq:  [670738.58174717]\n",
      "Empirical risk with numpy lstsq: [2235.79527249]\n"
     ]
    },
    {
     "name": "stderr",
     "output_type": "stream",
     "text": [
      "C:\\Users\\Burla Nur\\.conda\\envs\\PythonGPU\\lib\\site-packages\\ipykernel_launcher.py:19: FutureWarning: `rcond` parameter will change to the default of machine precision times ``max(M, N)`` where M and N are the input matrix dimensions.\n",
      "To use the future default and silence this warning we advise to pass `rcond=None`, to keep using the old, explicitly pass `rcond=-1`.\n"
     ]
    }
   ],
   "source": [
    "#compute linear regression coefficients for training data\n",
    "\n",
    "\n",
    "#add a 1 at the beginning of each sample for training, validation, and testing (use homogeneous coordinates)\n",
    "m_training = X_training.shape[0]\n",
    "X_trainingH = np.hstack((np.ones((m_training,1)),X_training)) # H: in homogeneous coordinates\n",
    "#print X_training[0,:]\n",
    "\n",
    "m_validation = X_validation.shape[0]\n",
    "X_validationH = np.hstack((np.ones((m_validation,1)),X_validation))  # H: in homogeneous coordinates\n",
    "#print X_validation[0,:]\n",
    "\n",
    "m_test = X_test.shape[0]\n",
    "X_testH = np.hstack((np.ones((m_test,1)),X_test))  # H: in homogeneous coordinates\n",
    "#print X_test[0,:]   \n",
    "\n",
    "\n",
    "# Compute the least-squares coefficients using linalg.lstsq\n",
    "w_np, RSStr_np, rank_Xtr, sv_Xtr =  np.linalg.lstsq(X_trainingH, Y_training)\n",
    "print(\"LS coefficients with numpy lstsq:\", w_np)\n",
    "\n",
    "# compute Residual sums of squares \n",
    "\n",
    "#prediction_training \n",
    "prediction_training = [] \n",
    "for i in range(len(Y_training)): \n",
    "    pred = np.matmul(np.squeeze(w_np[1:14]),np.squeeze(X_training[i])) + w_np[0]\n",
    "    prediction_training.append(pred)\n",
    "    \n",
    "RSStr_hand = 0\n",
    "total = 0\n",
    "for i in range(len(Y_training)):\n",
    "    RSStr_hand = pow(prediction_training[i]-Y_training[i],2)\n",
    "    total = total + RSStr_hand\n",
    "RSStr_hand = total\n",
    "\n",
    "print(\"RSS with numpy lstsq: \", RSStr_np)\n",
    "print(\"Empirical risk with numpy lstsq:\", RSStr_np/m_training)"
   ]
  },
  {
   "cell_type": "markdown",
   "metadata": {},
   "source": [
    "## Data prediction \n",
    "\n",
    "Compute the output predictions on both training and validation set and compute the Residual Sum of Sqaures (RSS). \n",
    "\n",
    "**TO DO**: Compute these quantities on  training, validation and test sets."
   ]
  },
  {
   "cell_type": "code",
   "execution_count": 21,
   "metadata": {},
   "outputs": [
    {
     "name": "stdout",
     "output_type": "stream",
     "text": [
      "RSS on validation data: [168527.43092792]\n",
      "Loss estimated from validation data: [1685.27430928]\n",
      "RSS on test data: [278484.59715415]\n",
      "Loss estimated from test data: [2784.84597154]\n"
     ]
    }
   ],
   "source": [
    "#compute predictions on training and validation\n",
    "\n",
    "#prediction_training \n",
    "prediction_training = [] \n",
    "for i in range(len(Y_training)): \n",
    "    pred = np.matmul(np.squeeze(w_np[1:14]),np.squeeze(X_training[i])) + w_np[0]\n",
    "    prediction_training.append(pred)\n",
    "    \n",
    "    \n",
    "prediction_validation =[]\n",
    "for i in range(len(Y_validation)): \n",
    "    pred = np.matmul(np.squeeze(w_np[1:14]),np.squeeze(X_validation[i])) + w_np[0]\n",
    "    prediction_validation.append(pred)\n",
    "    \n",
    "prediction_test = []\n",
    "for i in range(len(Y_test)): \n",
    "    pred = np.matmul(np.squeeze(w_np[1:14]),np.squeeze(X_test[i])) + w_np[0]\n",
    "    prediction_test.append(pred)\n",
    "\n",
    "#what about the loss for points in the validation data?\n",
    "RSS_validation = 0\n",
    "total = 0\n",
    "for i in range(len(Y_validation)):\n",
    "    RSS_validation = pow(prediction_validation[i]-Y_validation[i],2)\n",
    "    total = total + RSS_validation\n",
    "RSS_validation = total    \n",
    "\n",
    "RSS_test = 0\n",
    "total = 0\n",
    "for i in range(len(Y_test)):\n",
    "    RSS_test = pow(prediction_test[i]-Y_test[i],2)\n",
    "    total = total + RSS_test\n",
    "RSS_test = total\n",
    "\n",
    "print(\"RSS on validation data:\",  RSS_validation)\n",
    "print(\"Loss estimated from validation data:\", RSS_validation/m_validation)\n",
    "\n",
    "print(\"RSS on test data:\",  RSS_test)\n",
    "print(\"Loss estimated from test data:\", RSS_test/m_test)"
   ]
  },
  {
   "cell_type": "markdown",
   "metadata": {},
   "source": [
    "### QUESTION 4: Comment on the results you get and on the difference between the train, validation and test errors.\n",
    "\n",
    "We divided the data set into 1/5 parts and trained with the 3 parts, but I think the amount of this training set was insufficient because training error was high. Also, test error is higher than training error as i guess. By including the validation set in the training, that is, with the Cross Validation method, error results can be improved. Validation error is low but not meaningful because it was supposed to be used in training.\n"
   ]
  },
  {
   "cell_type": "markdown",
   "metadata": {},
   "source": [
    "## Ordinary Least-Squares using scikit-learn\n",
    "Another fast way to compute the LS estimate is through sklearn.linear_model (for this function homogeneous coordinates are not needed)."
   ]
  },
  {
   "cell_type": "code",
   "execution_count": 22,
   "metadata": {},
   "outputs": [
    {
     "name": "stdout",
     "output_type": "stream",
     "text": [
      "Intercept: [223.91]\n",
      "Least-Squares Coefficients: [[ -7.96825587   9.96074867  -6.13412414  11.91596188 -15.80343278\n",
      "   22.35714331  -1.05468059 -34.16662483  20.21684307 -14.91652015\n",
      "  -18.33353416   8.9242673  -40.5730793 ]]\n",
      "Measure on training data: 0.2663562981193215\n"
     ]
    }
   ],
   "source": [
    "from sklearn import linear_model\n",
    "\n",
    "# build the LinearRegression() model and train it\n",
    "LinReg = linear_model.LinearRegression()\n",
    "\n",
    "LinReg.fit(X_training, Y_training)\n",
    "\n",
    "print(\"Intercept:\", LinReg.intercept_)\n",
    "print(\"Least-Squares Coefficients:\", LinReg.coef_)\n",
    "\n",
    "# predict output values on training and test sets\n",
    "\n",
    "LinReg_training_pred = LinReg.predict(X_training)\n",
    "LinReg_validation_pred = LinReg.predict(X_validation)\n",
    "LinReg_test_pred = LinReg.predict(X_test)\n",
    "\n",
    "# return a prediction score based on the coefficient of determination\n",
    "print(\"Measure on training data:\", 1-LinReg.score(X_training, Y_training))"
   ]
  },
  {
   "cell_type": "code",
   "execution_count": null,
   "metadata": {},
   "outputs": [],
   "source": []
  }
 ],
 "metadata": {
  "anaconda-cloud": {},
  "kernelspec": {
   "display_name": "Python 3",
   "language": "python",
   "name": "python3"
  },
  "language_info": {
   "codemirror_mode": {
    "name": "ipython",
    "version": 3
   },
   "file_extension": ".py",
   "mimetype": "text/x-python",
   "name": "python",
   "nbconvert_exporter": "python",
   "pygments_lexer": "ipython3",
   "version": "3.7.1"
  }
 },
 "nbformat": 4,
 "nbformat_minor": 2
}
